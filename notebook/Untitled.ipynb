{
 "cells": [
  {
   "cell_type": "code",
   "execution_count": 83,
   "id": "minus-damage",
   "metadata": {
    "autoscroll": false,
    "collapsed": false,
    "ein.hycell": false,
    "ein.tags": "worksheet-0",
    "slideshow": {
     "slide_type": "-"
    }
   },
   "outputs": [],
   "source": [
    "from datetime import date\n",
    "from datetime import datetime\n",
    "import uuid\n",
    "import json\n",
    "\n",
    "class SimpleApiException(Exception):\n",
    "    reason = \"\"\n",
    "    def __init__(self, reason):\n",
    "        self.reason = reason\n",
    "    \n",
    "class SimpleApi:\n",
    "    db = {}\n",
    "    def __init__(self):\n",
    "        self.db = {}\n",
    "        \n",
    "    def set_v1(self, v=None):\n",
    "        if v is None:\n",
    "            return\n",
    "        if not isinstance(v, str):\n",
    "            raise SimpleApiException(\"Invalid Type: {:} expected string\".format(v))\n",
    "        else:\n",
    "            self.v1=v\n",
    "\n",
    "    def set_v2(self, v=None):\n",
    "        if v is None:\n",
    "            return\n",
    "        if not isinstance(v, float):\n",
    "            raise SimpleApiException(\"Invalid Type: {:} expected float\".format(v))\n",
    "        else:\n",
    "            self.v2=v\n",
    "\n",
    "    def set_v3(self, v=None):\n",
    "        if v is None:\n",
    "            return\n",
    "        if not isinstance(v, bool):\n",
    "            raise SimpleApiException(\"Invalid Type: {:} expected bool\".format(v))\n",
    "        else:\n",
    "            self.v3=v\n",
    "\n",
    "    def create(self, v1=None, v2=None, v3=None):\n",
    "\n",
    "        if jo is None:\n",
    "            raise SimpleApiException\n",
    "        \n",
    "        sw = dict()\n",
    "        self.set_v1(v1)\n",
    "        self.set_v2(v2)\n",
    "        self.set_v3(v3)\n",
    "            \n",
    "        sw['id'] = uuid.uuid4()\n",
    "        ct = date.today()\n",
    "        sw['creationDate']=ct\n",
    "        sw['lastModificationDate']=ct\n",
    "        sw['timestamp']=datetime.now()\n",
    "\n",
    "        self.db[sw['id']] = sw\n",
    "        return sw\n",
    "\n",
    "            \n",
    "    def get_collection(self):\n",
    "        return [ self.db[o] for o in self.db ]\n",
    "        \n",
    "    def get(self, oid):\n",
    "        return self.db[oid]\n",
    "\n",
    "    def remove(self, oid):\n",
    "        del self.db[oid]\n",
    "\n",
    "    def update(self, oid, v1=None, v2=None, v3=None):\n",
    "        sw = get(oid)\n",
    "        if v1 is not None:\n",
    "            sw['v1'] = v1\n",
    "        if v2 is not None:\n",
    "            sw['v2'] = v2\n",
    "        if v3 is not None:\n",
    "            sw['v3'] = v3\n",
    "        sw['lastModificationDate']=date.today()\n",
    "        sw['timestamp']=datetime.now()\n",
    "        self.db[oid] = sw\n"
   ]
  },
  {
   "cell_type": "code",
   "execution_count": 84,
   "id": "remarkable-stand",
   "metadata": {
    "autoscroll": false,
    "collapsed": false,
    "ein.hycell": false,
    "ein.tags": "worksheet-0",
    "slideshow": {
     "slide_type": "-"
    }
   },
   "outputs": [
    {
     "name": "stdout",
     "output_type": "stream",
     "text": [
      "611c0ecb-f97e-49e5-8dae-36b14196946f\n",
      "{\n",
      "    \"creationDate\": \"2021-02-09\",\n",
      "    \"id\": \"611c0ecb-f97e-49e5-8dae-36b14196946f\",\n",
      "    \"lastModificationDate\": \"2021-02-09\",\n",
      "    \"timestamp\": \"2021-02-09 10:19:34.165263\"\n",
      "}\n"
     ]
    },
    {
     "ename": "SimpleApiException",
     "evalue": "Invalid Type: 1 expected string",
     "output_type": "error",
     "traceback": [
      "\u001b[0;31m---------------------------------------------------------------------------\u001b[0m",
      "\u001b[0;31mSimpleApiException\u001b[0m                        Traceback (most recent call last)",
      "\u001b[0;32m<ipython-input-84-458973eb75b1>\u001b[0m in \u001b[0;36m<module>\u001b[0;34m\u001b[0m\n\u001b[1;32m      7\u001b[0m \u001b[0;34m\u001b[0m\u001b[0m\n\u001b[1;32m      8\u001b[0m \u001b[0mprint\u001b[0m\u001b[0;34m(\u001b[0m\u001b[0mjo\u001b[0m\u001b[0;34m)\u001b[0m\u001b[0;34m\u001b[0m\u001b[0;34m\u001b[0m\u001b[0m\n\u001b[0;32m----> 9\u001b[0;31m \u001b[0msw\u001b[0m \u001b[0;34m=\u001b[0m \u001b[0msa\u001b[0m\u001b[0;34m.\u001b[0m\u001b[0mcreate\u001b[0m\u001b[0;34m(\u001b[0m\u001b[0mv1\u001b[0m\u001b[0;34m=\u001b[0m\u001b[0;36m1\u001b[0m\u001b[0;34m,\u001b[0m \u001b[0mv2\u001b[0m\u001b[0;34m=\u001b[0m\u001b[0;36m1.0\u001b[0m\u001b[0;34m,\u001b[0m \u001b[0mv3\u001b[0m\u001b[0;34m=\u001b[0m\u001b[0;32mTrue\u001b[0m\u001b[0;34m)\u001b[0m\u001b[0;34m\u001b[0m\u001b[0;34m\u001b[0m\u001b[0m\n\u001b[0m\u001b[1;32m     10\u001b[0m \u001b[0;34m\u001b[0m\u001b[0m\n\u001b[1;32m     11\u001b[0m \u001b[0mlist\u001b[0m \u001b[0;34m=\u001b[0m \u001b[0msa\u001b[0m\u001b[0;34m.\u001b[0m\u001b[0mget_collection\u001b[0m\u001b[0;34m(\u001b[0m\u001b[0;34m)\u001b[0m\u001b[0;34m\u001b[0m\u001b[0;34m\u001b[0m\u001b[0m\n",
      "\u001b[0;32m<ipython-input-83-d18e0d8600e8>\u001b[0m in \u001b[0;36mcreate\u001b[0;34m(self, v1, v2, v3)\u001b[0m\n\u001b[1;32m     44\u001b[0m \u001b[0;34m\u001b[0m\u001b[0m\n\u001b[1;32m     45\u001b[0m         \u001b[0msw\u001b[0m \u001b[0;34m=\u001b[0m \u001b[0mdict\u001b[0m\u001b[0;34m(\u001b[0m\u001b[0;34m)\u001b[0m\u001b[0;34m\u001b[0m\u001b[0;34m\u001b[0m\u001b[0m\n\u001b[0;32m---> 46\u001b[0;31m         \u001b[0mself\u001b[0m\u001b[0;34m.\u001b[0m\u001b[0mset_v1\u001b[0m\u001b[0;34m(\u001b[0m\u001b[0mv1\u001b[0m\u001b[0;34m)\u001b[0m\u001b[0;34m\u001b[0m\u001b[0;34m\u001b[0m\u001b[0m\n\u001b[0m\u001b[1;32m     47\u001b[0m         \u001b[0mself\u001b[0m\u001b[0;34m.\u001b[0m\u001b[0mset_v2\u001b[0m\u001b[0;34m(\u001b[0m\u001b[0mv2\u001b[0m\u001b[0;34m)\u001b[0m\u001b[0;34m\u001b[0m\u001b[0;34m\u001b[0m\u001b[0m\n\u001b[1;32m     48\u001b[0m         \u001b[0mself\u001b[0m\u001b[0;34m.\u001b[0m\u001b[0mset_v3\u001b[0m\u001b[0;34m(\u001b[0m\u001b[0mv3\u001b[0m\u001b[0;34m)\u001b[0m\u001b[0;34m\u001b[0m\u001b[0;34m\u001b[0m\u001b[0m\n",
      "\u001b[0;32m<ipython-input-83-d18e0d8600e8>\u001b[0m in \u001b[0;36mset_v1\u001b[0;34m(self, v)\u001b[0m\n\u001b[1;32m     18\u001b[0m             \u001b[0;32mreturn\u001b[0m\u001b[0;34m\u001b[0m\u001b[0;34m\u001b[0m\u001b[0m\n\u001b[1;32m     19\u001b[0m         \u001b[0;32mif\u001b[0m \u001b[0;32mnot\u001b[0m \u001b[0misinstance\u001b[0m\u001b[0;34m(\u001b[0m\u001b[0mv\u001b[0m\u001b[0;34m,\u001b[0m \u001b[0mstr\u001b[0m\u001b[0;34m)\u001b[0m\u001b[0;34m:\u001b[0m\u001b[0;34m\u001b[0m\u001b[0;34m\u001b[0m\u001b[0m\n\u001b[0;32m---> 20\u001b[0;31m             \u001b[0;32mraise\u001b[0m \u001b[0mSimpleApiException\u001b[0m\u001b[0;34m(\u001b[0m\u001b[0;34m\"Invalid Type: {:} expected string\"\u001b[0m\u001b[0;34m.\u001b[0m\u001b[0mformat\u001b[0m\u001b[0;34m(\u001b[0m\u001b[0mv\u001b[0m\u001b[0;34m)\u001b[0m\u001b[0;34m)\u001b[0m\u001b[0;34m\u001b[0m\u001b[0;34m\u001b[0m\u001b[0m\n\u001b[0m\u001b[1;32m     21\u001b[0m         \u001b[0;32melse\u001b[0m\u001b[0;34m:\u001b[0m\u001b[0;34m\u001b[0m\u001b[0;34m\u001b[0m\u001b[0m\n\u001b[1;32m     22\u001b[0m             \u001b[0mself\u001b[0m\u001b[0;34m.\u001b[0m\u001b[0mv1\u001b[0m\u001b[0;34m=\u001b[0m\u001b[0mv\u001b[0m\u001b[0;34m\u001b[0m\u001b[0;34m\u001b[0m\u001b[0m\n",
      "\u001b[0;31mSimpleApiException\u001b[0m: Invalid Type: 1 expected string"
     ]
    }
   ],
   "source": [
    "sa = SimpleApi()\n",
    "\n",
    "sw = sa.create(v1='one')\n",
    "print(sw['id'])\n",
    "\n",
    "jo = json.dumps(sw, indent=4, sort_keys=True, default=str)\n",
    "\n",
    "print(jo)\n",
    "sw = sa.create(v1=1, v2=1.0, v3=True)\n",
    "\n",
    "list = sa.get_collection()\n",
    "\n",
    "jo = json.dumps(list, indent=4, sort_keys=True, default=str)\n",
    "print(jo)\n"
   ]
  },
  {
   "cell_type": "code",
   "execution_count": null,
   "id": "funded-assessment",
   "metadata": {
    "autoscroll": false,
    "collapsed": false,
    "ein.hycell": false,
    "ein.tags": "worksheet-0",
    "slideshow": {
     "slide_type": "-"
    }
   },
   "outputs": [
    {
     "name": "stdout",
     "output_type": "stream",
     "text": [
      "true\n"
     ]
    }
   ],
   "source": [
    "v1=0.0\n",
    "if (isinstance(v1, float)):\n",
    "    print(\"true\")\n",
    "else:\n",
    "    print(\"false\")\n",
    "    \n"
   ]
  }
 ],
 "metadata": {
  "kernelspec": {
   "argv": [
    "/Users/juan/venv-3.8.6/bin/python",
    "-m",
    "ipykernel_launcher",
    "-f",
    "{connection_file}"
   ],
   "display_name": "venv-3.8.6",
   "env": null,
   "interrupt_mode": "signal",
   "language": "python",
   "metadata": null,
   "name": "venv-3.8.6"
  },
  "name": "Untitled.ipynb"
 },
 "nbformat": 4,
 "nbformat_minor": 5
}
