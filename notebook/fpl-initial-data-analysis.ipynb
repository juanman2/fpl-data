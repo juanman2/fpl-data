{
 "cells": [
  {
   "cell_type": "code",
   "execution_count": 1,
   "id": "aboriginal-ordering",
   "metadata": {
    "autoscroll": false,
    "collapsed": false,
    "ein.hycell": false,
    "ein.tags": "worksheet-0",
    "slideshow": {
     "slide_type": "-"
    }
   },
   "outputs": [
    {
     "name": "stdout",
     "output_type": "stream",
     "text": [
      "RangeIndex(start=0, stop=683, step=1) (683, 17)\n",
      "Index(['first_name', 'second_name', 'goals_scored', 'assists', 'total_points',\n",
      "       'minutes', 'goals_conceded', 'creativity', 'influence', 'threat',\n",
      "       'bonus', 'bps', 'ict_index', 'clean_sheets', 'red_cards',\n",
      "       'yellow_cards', 'selected_by_percent'],\n",
      "      dtype='object')\n"
     ]
    }
   ],
   "source": [
    "import pandas as pd\n",
    "import matplotlib.pyplot as plt\n",
    "\n",
    "plt.rcParams[\"figure.facecolor\"] = \"white\"\n",
    "plt.rcParams[\"axes.facecolor\"] = \"white\"\n",
    "plt.rcParams[\"savefig.facecolor\"] = \"white\"\n",
    "\n",
    "players_2016 = pd.read_csv('data/2016-17/cleaned_players.csv')\n",
    "\n",
    "type(players_2016)\n",
    "\n",
    "idx = players_2016.index\n",
    "shape = players_2016.shape\n",
    "cols = players_2016.columns\n",
    "\n",
    "print (idx, shape)\n",
    "print (cols)\n",
    "\n"
   ]
  },
  {
   "cell_type": "code",
   "execution_count": 2,
   "id": "waiting-cornwall",
   "metadata": {
    "autoscroll": false,
    "collapsed": false,
    "ein.hycell": false,
    "ein.tags": "worksheet-0",
    "slideshow": {
     "slide_type": "-"
    }
   },
   "outputs": [
    {
     "data": {
      "text/html": [
       "<div>\n<style scoped>\n    .dataframe tbody tr th:only-of-type {\n        vertical-align: middle;\n    }\n\n    .dataframe tbody tr th {\n        vertical-align: top;\n    }\n\n    .dataframe thead th {\n        text-align: right;\n    }\n</style>\n<table border=\"1\" class=\"dataframe\">\n  <thead>\n    <tr style=\"text-align: right;\">\n      <th></th>\n      <th>first_name</th>\n      <th>second_name</th>\n      <th>goals_scored</th>\n      <th>assists</th>\n      <th>total_points</th>\n      <th>minutes</th>\n      <th>goals_conceded</th>\n      <th>creativity</th>\n      <th>influence</th>\n      <th>threat</th>\n      <th>bonus</th>\n      <th>bps</th>\n      <th>ict_index</th>\n      <th>clean_sheets</th>\n      <th>red_cards</th>\n      <th>yellow_cards</th>\n      <th>selected_by_percent</th>\n    </tr>\n  </thead>\n  <tbody>\n    <tr>\n      <th>0</th>\n      <td>David</td>\n      <td>Ospina</td>\n      <td>0</td>\n      <td>0</td>\n      <td>2</td>\n      <td>143</td>\n      <td>4</td>\n      <td>0.0</td>\n      <td>28.8</td>\n      <td>0</td>\n      <td>0</td>\n      <td>18</td>\n      <td>2.9</td>\n      <td>0</td>\n      <td>0</td>\n      <td>0</td>\n      <td>0.2</td>\n    </tr>\n    <tr>\n      <th>1</th>\n      <td>Petr</td>\n      <td>Cech</td>\n      <td>0</td>\n      <td>0</td>\n      <td>134</td>\n      <td>3097</td>\n      <td>37</td>\n      <td>0.1</td>\n      <td>819.8</td>\n      <td>0</td>\n      <td>2</td>\n      <td>660</td>\n      <td>82.0</td>\n      <td>12</td>\n      <td>0</td>\n      <td>2</td>\n      <td>13.7</td>\n    </tr>\n    <tr>\n      <th>2</th>\n      <td>Laurent</td>\n      <td>Koscielny</td>\n      <td>2</td>\n      <td>1</td>\n      <td>121</td>\n      <td>2821</td>\n      <td>37</td>\n      <td>53.9</td>\n      <td>831.2</td>\n      <td>239</td>\n      <td>19</td>\n      <td>723</td>\n      <td>112.7</td>\n      <td>10</td>\n      <td>1</td>\n      <td>4</td>\n      <td>11.2</td>\n    </tr>\n    <tr>\n      <th>3</th>\n      <td>Per</td>\n      <td>Mertesacker</td>\n      <td>0</td>\n      <td>0</td>\n      <td>1</td>\n      <td>38</td>\n      <td>1</td>\n      <td>0.1</td>\n      <td>17.8</td>\n      <td>0</td>\n      <td>0</td>\n      <td>5</td>\n      <td>1.8</td>\n      <td>0</td>\n      <td>0</td>\n      <td>0</td>\n      <td>0.2</td>\n    </tr>\n    <tr>\n      <th>4</th>\n      <td>Gabriel Armando</td>\n      <td>de Abreu</td>\n      <td>0</td>\n      <td>0</td>\n      <td>45</td>\n      <td>1517</td>\n      <td>18</td>\n      <td>84.5</td>\n      <td>295.8</td>\n      <td>119</td>\n      <td>2</td>\n      <td>296</td>\n      <td>50.0</td>\n      <td>5</td>\n      <td>0</td>\n      <td>6</td>\n      <td>0.8</td>\n    </tr>\n  </tbody>\n</table>\n</div>"
      ],
      "text/plain": [
       "        first_name  second_name  goals_scored  assists  total_points  minutes  \\\n0            David       Ospina             0        0             2      143   \n1             Petr         Cech             0        0           134     3097   \n2          Laurent    Koscielny             2        1           121     2821   \n3              Per  Mertesacker             0        0             1       38   \n4  Gabriel Armando     de Abreu             0        0            45     1517   \n\n   goals_conceded  creativity  influence  threat  bonus  bps  ict_index  \\\n0               4         0.0       28.8       0      0   18        2.9   \n1              37         0.1      819.8       0      2  660       82.0   \n2              37        53.9      831.2     239     19  723      112.7   \n3               1         0.1       17.8       0      0    5        1.8   \n4              18        84.5      295.8     119      2  296       50.0   \n\n   clean_sheets  red_cards  yellow_cards  selected_by_percent  \n0             0          0             0                  0.2  \n1            12          0             2                 13.7  \n2            10          1             4                 11.2  \n3             0          0             0                  0.2  \n4             5          0             6                  0.8  "
      ]
     },
     "execution_count": 2,
     "metadata": {},
     "output_type": "execute_result"
    }
   ],
   "source": [
    "players_2016.head()\n",
    "\n"
   ]
  },
  {
   "cell_type": "code",
   "execution_count": 3,
   "id": "strategic-windsor",
   "metadata": {
    "autoscroll": false,
    "collapsed": false,
    "ein.hycell": false,
    "ein.tags": "worksheet-0",
    "slideshow": {
     "slide_type": "-"
    }
   },
   "outputs": [
    {
     "data": {
      "text/html": [
       "<div>\n<style scoped>\n    .dataframe tbody tr th:only-of-type {\n        vertical-align: middle;\n    }\n\n    .dataframe tbody tr th {\n        vertical-align: top;\n    }\n\n    .dataframe thead th {\n        text-align: right;\n    }\n</style>\n<table border=\"1\" class=\"dataframe\">\n  <thead>\n    <tr style=\"text-align: right;\">\n      <th></th>\n      <th>first_name</th>\n      <th>second_name</th>\n      <th>goals_scored</th>\n      <th>assists</th>\n      <th>total_points</th>\n      <th>minutes</th>\n      <th>goals_conceded</th>\n      <th>creativity</th>\n      <th>influence</th>\n      <th>threat</th>\n      <th>bonus</th>\n      <th>bps</th>\n      <th>ict_index</th>\n      <th>clean_sheets</th>\n      <th>red_cards</th>\n      <th>yellow_cards</th>\n      <th>selected_by_percent</th>\n    </tr>\n  </thead>\n  <tbody>\n    <tr>\n      <th>678</th>\n      <td>Sam</td>\n      <td>Surridge</td>\n      <td>0</td>\n      <td>0</td>\n      <td>0</td>\n      <td>0</td>\n      <td>0</td>\n      <td>0.0</td>\n      <td>0.0</td>\n      <td>0</td>\n      <td>0</td>\n      <td>0</td>\n      <td>0.0</td>\n      <td>0</td>\n      <td>0</td>\n      <td>0</td>\n      <td>0.0</td>\n    </tr>\n    <tr>\n      <th>679</th>\n      <td>Angel</td>\n      <td>Gomes</td>\n      <td>0</td>\n      <td>0</td>\n      <td>1</td>\n      <td>3</td>\n      <td>0</td>\n      <td>3.8</td>\n      <td>0.8</td>\n      <td>0</td>\n      <td>0</td>\n      <td>2</td>\n      <td>0.5</td>\n      <td>0</td>\n      <td>0</td>\n      <td>0</td>\n      <td>0.0</td>\n    </tr>\n    <tr>\n      <th>680</th>\n      <td>Kieran</td>\n      <td>O'Hara</td>\n      <td>0</td>\n      <td>0</td>\n      <td>0</td>\n      <td>0</td>\n      <td>0</td>\n      <td>0.0</td>\n      <td>0.0</td>\n      <td>0</td>\n      <td>0</td>\n      <td>0</td>\n      <td>0.0</td>\n      <td>0</td>\n      <td>0</td>\n      <td>0</td>\n      <td>0.0</td>\n    </tr>\n    <tr>\n      <th>681</th>\n      <td>Gerhard</td>\n      <td>Tremmel</td>\n      <td>0</td>\n      <td>0</td>\n      <td>0</td>\n      <td>0</td>\n      <td>0</td>\n      <td>0.0</td>\n      <td>0.0</td>\n      <td>0</td>\n      <td>0</td>\n      <td>0</td>\n      <td>0.0</td>\n      <td>0</td>\n      <td>0</td>\n      <td>0</td>\n      <td>0.0</td>\n    </tr>\n    <tr>\n      <th>682</th>\n      <td>Rene</td>\n      <td>Gilmartin</td>\n      <td>0</td>\n      <td>0</td>\n      <td>0</td>\n      <td>0</td>\n      <td>0</td>\n      <td>0.0</td>\n      <td>0.0</td>\n      <td>0</td>\n      <td>0</td>\n      <td>0</td>\n      <td>0.0</td>\n      <td>0</td>\n      <td>0</td>\n      <td>0</td>\n      <td>0.0</td>\n    </tr>\n  </tbody>\n</table>\n</div>"
      ],
      "text/plain": [
       "    first_name second_name  goals_scored  assists  total_points  minutes  \\\n678        Sam    Surridge             0        0             0        0   \n679      Angel       Gomes             0        0             1        3   \n680     Kieran      O'Hara             0        0             0        0   \n681    Gerhard     Tremmel             0        0             0        0   \n682       Rene   Gilmartin             0        0             0        0   \n\n     goals_conceded  creativity  influence  threat  bonus  bps  ict_index  \\\n678               0         0.0        0.0       0      0    0        0.0   \n679               0         3.8        0.8       0      0    2        0.5   \n680               0         0.0        0.0       0      0    0        0.0   \n681               0         0.0        0.0       0      0    0        0.0   \n682               0         0.0        0.0       0      0    0        0.0   \n\n     clean_sheets  red_cards  yellow_cards  selected_by_percent  \n678             0          0             0                  0.0  \n679             0          0             0                  0.0  \n680             0          0             0                  0.0  \n681             0          0             0                  0.0  \n682             0          0             0                  0.0  "
      ]
     },
     "execution_count": 3,
     "metadata": {},
     "output_type": "execute_result"
    }
   ],
   "source": [
    "players_2016.tail()\n"
   ]
  },
  {
   "cell_type": "code",
   "execution_count": 4,
   "id": "significant-shower",
   "metadata": {
    "autoscroll": false,
    "collapsed": false,
    "ein.hycell": false,
    "ein.tags": "worksheet-0",
    "slideshow": {
     "slide_type": "-"
    }
   },
   "outputs": [
    {
     "data": {
      "text/plain": [
       "Index(['assists', 'bonus', 'bps', 'chance_of_playing_next_round',\n       'chance_of_playing_this_round', 'clean_sheets', 'code',\n       'cost_change_event', 'cost_change_event_fall', 'cost_change_start',\n       'cost_change_start_fall', 'creativity', 'dreamteam_count', 'ea_index',\n       'element_type', 'ep_next', 'ep_this', 'event_points', 'first_name',\n       'form', 'goals_conceded', 'goals_scored', 'ict_index', 'id',\n       'in_dreamteam', 'influence', 'loaned_in', 'loaned_out', 'loans_in',\n       'loans_out', 'minutes', 'news', 'now_cost', 'own_goals',\n       'penalties_missed', 'penalties_saved', 'photo', 'points_per_game',\n       'red_cards', 'saves', 'second_name', 'selected_by_percent', 'special',\n       'squad_number', 'status', 'team', 'team_code', 'threat', 'total_points',\n       'transfers_in', 'transfers_in_event', 'transfers_out',\n       'transfers_out_event', 'value_form', 'value_season', 'web_name',\n       'yellow_cards'],\n      dtype='object')"
      ]
     },
     "execution_count": 4,
     "metadata": {},
     "output_type": "execute_result"
    }
   ],
   "source": [
    "players_raw_2016 = pd.read_csv('data/2016-17/players_raw.csv')\n",
    "\n",
    "players_raw_2016.columns\n"
   ]
  },
  {
   "cell_type": "code",
   "execution_count": 5,
   "id": "artificial-front",
   "metadata": {
    "autoscroll": false,
    "collapsed": false,
    "ein.hycell": false,
    "ein.tags": "worksheet-0",
    "slideshow": {
     "slide_type": "-"
    }
   },
   "outputs": [
    {
     "name": "stdout",
     "output_type": "stream",
     "text": [
      "<class 'pandas.core.frame.DataFrame'>\n",
      "RangeIndex: 683 entries, 0 to 682\n",
      "Data columns (total 57 columns):\n",
      " #   Column                        Non-Null Count  Dtype  \n",
      "---  ------                        --------------  -----  \n",
      " 0   assists                       683 non-null    int64  \n",
      " 1   bonus                         683 non-null    int64  \n",
      " 2   bps                           683 non-null    int64  \n",
      " 3   chance_of_playing_next_round  683 non-null    object \n",
      " 4   chance_of_playing_this_round  683 non-null    object \n",
      " 5   clean_sheets                  683 non-null    int64  \n",
      " 6   code                          683 non-null    int64  \n",
      " 7   cost_change_event             683 non-null    int64  \n",
      " 8   cost_change_event_fall        683 non-null    int64  \n",
      " 9   cost_change_start             683 non-null    int64  \n",
      " 10  cost_change_start_fall        683 non-null    int64  \n",
      " 11  creativity                    683 non-null    float64\n",
      " 12  dreamteam_count               683 non-null    int64  \n",
      " 13  ea_index                      683 non-null    int64  \n",
      " 14  element_type                  683 non-null    int64  \n",
      " 15  ep_next                       683 non-null    object \n",
      " 16  ep_this                       683 non-null    float64\n",
      " 17  event_points                  683 non-null    int64  \n",
      " 18  first_name                    683 non-null    object \n",
      " 19  form                          683 non-null    float64\n",
      " 20  goals_conceded                683 non-null    int64  \n",
      " 21  goals_scored                  683 non-null    int64  \n",
      " 22  ict_index                     683 non-null    float64\n",
      " 23  id                            683 non-null    int64  \n",
      " 24  in_dreamteam                  683 non-null    bool   \n",
      " 25  influence                     683 non-null    float64\n",
      " 26  loaned_in                     683 non-null    int64  \n",
      " 27  loaned_out                    683 non-null    int64  \n",
      " 28  loans_in                      683 non-null    int64  \n",
      " 29  loans_out                     683 non-null    int64  \n",
      " 30  minutes                       683 non-null    int64  \n",
      " 31  news                          185 non-null    object \n",
      " 32  now_cost                      683 non-null    int64  \n",
      " 33  own_goals                     683 non-null    int64  \n",
      " 34  penalties_missed              683 non-null    int64  \n",
      " 35  penalties_saved               683 non-null    int64  \n",
      " 36  photo                         683 non-null    object \n",
      " 37  points_per_game               683 non-null    float64\n",
      " 38  red_cards                     683 non-null    int64  \n",
      " 39  saves                         683 non-null    int64  \n",
      " 40  second_name                   683 non-null    object \n",
      " 41  selected_by_percent           683 non-null    float64\n",
      " 42  special                       683 non-null    bool   \n",
      " 43  squad_number                  683 non-null    object \n",
      " 44  status                        683 non-null    object \n",
      " 45  team                          683 non-null    int64  \n",
      " 46  team_code                     683 non-null    int64  \n",
      " 47  threat                        683 non-null    float64\n",
      " 48  total_points                  683 non-null    int64  \n",
      " 49  transfers_in                  683 non-null    int64  \n",
      " 50  transfers_in_event            683 non-null    int64  \n",
      " 51  transfers_out                 683 non-null    int64  \n",
      " 52  transfers_out_event           683 non-null    int64  \n",
      " 53  value_form                    683 non-null    float64\n",
      " 54  value_season                  683 non-null    float64\n",
      " 55  web_name                      683 non-null    object \n",
      " 56  yellow_cards                  683 non-null    int64  \n",
      "dtypes: bool(2), float64(10), int64(35), object(10)\n",
      "memory usage: 294.9+ KB\n"
     ]
    }
   ],
   "source": [
    "players_raw_2016.info()\n"
   ]
  },
  {
   "cell_type": "code",
   "execution_count": 6,
   "id": "bright-matter",
   "metadata": {
    "autoscroll": false,
    "collapsed": false,
    "ein.hycell": false,
    "ein.tags": "worksheet-0",
    "slideshow": {
     "slide_type": "-"
    }
   },
   "outputs": [
    {
     "data": {
      "text/html": [
       "<div>\n<style scoped>\n    .dataframe tbody tr th:only-of-type {\n        vertical-align: middle;\n    }\n\n    .dataframe tbody tr th {\n        vertical-align: top;\n    }\n\n    .dataframe thead th {\n        text-align: right;\n    }\n</style>\n<table border=\"1\" class=\"dataframe\">\n  <thead>\n    <tr style=\"text-align: right;\">\n      <th></th>\n      <th>assists</th>\n      <th>bonus</th>\n      <th>bps</th>\n      <th>chance_of_playing_next_round</th>\n      <th>chance_of_playing_this_round</th>\n      <th>clean_sheets</th>\n      <th>code</th>\n      <th>cost_change_event</th>\n      <th>cost_change_event_fall</th>\n      <th>cost_change_start</th>\n      <th>...</th>\n      <th>threat</th>\n      <th>total_points</th>\n      <th>transfers_in</th>\n      <th>transfers_in_event</th>\n      <th>transfers_out</th>\n      <th>transfers_out_event</th>\n      <th>value_form</th>\n      <th>value_season</th>\n      <th>web_name</th>\n      <th>yellow_cards</th>\n    </tr>\n  </thead>\n  <tbody>\n    <tr>\n      <th>0</th>\n      <td>0</td>\n      <td>0</td>\n      <td>18</td>\n      <td>100</td>\n      <td>100</td>\n      <td>0</td>\n      <td>48844</td>\n      <td>0</td>\n      <td>0</td>\n      <td>-3</td>\n      <td>...</td>\n      <td>0.0</td>\n      <td>2</td>\n      <td>3433</td>\n      <td>0</td>\n      <td>7905</td>\n      <td>0</td>\n      <td>0.0</td>\n      <td>0.4</td>\n      <td>Ospina</td>\n      <td>0</td>\n    </tr>\n    <tr>\n      <th>1</th>\n      <td>0</td>\n      <td>2</td>\n      <td>660</td>\n      <td>100</td>\n      <td>100</td>\n      <td>12</td>\n      <td>11334</td>\n      <td>0</td>\n      <td>0</td>\n      <td>-1</td>\n      <td>...</td>\n      <td>0.0</td>\n      <td>134</td>\n      <td>432837</td>\n      <td>0</td>\n      <td>590727</td>\n      <td>0</td>\n      <td>0.0</td>\n      <td>24.8</td>\n      <td>Cech</td>\n      <td>2</td>\n    </tr>\n    <tr>\n      <th>2</th>\n      <td>1</td>\n      <td>19</td>\n      <td>723</td>\n      <td>0</td>\n      <td>75</td>\n      <td>10</td>\n      <td>51507</td>\n      <td>0</td>\n      <td>0</td>\n      <td>1</td>\n      <td>...</td>\n      <td>239.0</td>\n      <td>121</td>\n      <td>965040</td>\n      <td>0</td>\n      <td>857277</td>\n      <td>0</td>\n      <td>0.0</td>\n      <td>19.8</td>\n      <td>Koscielny</td>\n      <td>4</td>\n    </tr>\n    <tr>\n      <th>3</th>\n      <td>0</td>\n      <td>0</td>\n      <td>5</td>\n      <td>100</td>\n      <td>100</td>\n      <td>0</td>\n      <td>17127</td>\n      <td>0</td>\n      <td>0</td>\n      <td>-2</td>\n      <td>...</td>\n      <td>0.0</td>\n      <td>1</td>\n      <td>2141</td>\n      <td>0</td>\n      <td>5912</td>\n      <td>0</td>\n      <td>0.0</td>\n      <td>0.2</td>\n      <td>Mertesacker</td>\n      <td>0</td>\n    </tr>\n    <tr>\n      <th>4</th>\n      <td>0</td>\n      <td>2</td>\n      <td>296</td>\n      <td>75</td>\n      <td>100</td>\n      <td>5</td>\n      <td>158074</td>\n      <td>0</td>\n      <td>0</td>\n      <td>-2</td>\n      <td>...</td>\n      <td>119.0</td>\n      <td>45</td>\n      <td>119600</td>\n      <td>0</td>\n      <td>100361</td>\n      <td>0</td>\n      <td>0.0</td>\n      <td>9.4</td>\n      <td>Gabriel</td>\n      <td>6</td>\n    </tr>\n  </tbody>\n</table>\n<p>5 rows × 57 columns</p>\n</div>"
      ],
      "text/plain": [
       "   assists  bonus  bps chance_of_playing_next_round  \\\n0        0      0   18                          100   \n1        0      2  660                          100   \n2        1     19  723                            0   \n3        0      0    5                          100   \n4        0      2  296                           75   \n\n  chance_of_playing_this_round  clean_sheets    code  cost_change_event  \\\n0                          100             0   48844                  0   \n1                          100            12   11334                  0   \n2                           75            10   51507                  0   \n3                          100             0   17127                  0   \n4                          100             5  158074                  0   \n\n   cost_change_event_fall  cost_change_start  ...  threat  total_points  \\\n0                       0                 -3  ...     0.0             2   \n1                       0                 -1  ...     0.0           134   \n2                       0                  1  ...   239.0           121   \n3                       0                 -2  ...     0.0             1   \n4                       0                 -2  ...   119.0            45   \n\n   transfers_in  transfers_in_event  transfers_out transfers_out_event  \\\n0          3433                   0           7905                   0   \n1        432837                   0         590727                   0   \n2        965040                   0         857277                   0   \n3          2141                   0           5912                   0   \n4        119600                   0         100361                   0   \n\n   value_form  value_season     web_name  yellow_cards  \n0         0.0           0.4       Ospina             0  \n1         0.0          24.8         Cech             2  \n2         0.0          19.8    Koscielny             4  \n3         0.0           0.2  Mertesacker             0  \n4         0.0           9.4      Gabriel             6  \n\n[5 rows x 57 columns]"
      ]
     },
     "execution_count": 6,
     "metadata": {},
     "output_type": "execute_result"
    }
   ],
   "source": [
    "players_raw_2016.head()\n"
   ]
  },
  {
   "cell_type": "code",
   "execution_count": 7,
   "id": "executive-airline",
   "metadata": {
    "autoscroll": false,
    "collapsed": false,
    "ein.hycell": false,
    "ein.tags": "worksheet-0",
    "slideshow": {
     "slide_type": "-"
    }
   },
   "outputs": [
    {
     "data": {
      "text/plain": [
       "0     18\n1    660\n2    723\n3      5\n4    296\nName: bps, dtype: int64"
      ]
     },
     "execution_count": 7,
     "metadata": {},
     "output_type": "execute_result"
    }
   ],
   "source": [
    "bps=players_raw_2016['bps']\n",
    "bps.head()\n"
   ]
  },
  {
   "cell_type": "code",
   "execution_count": 8,
   "id": "beneficial-advertising",
   "metadata": {
    "autoscroll": false,
    "collapsed": false,
    "ein.hycell": false,
    "ein.tags": "worksheet-0",
    "slideshow": {
     "slide_type": "-"
    }
   },
   "outputs": [
    {
     "data": {
      "text/plain": [
       "18    42\n5     40\n11    38\n7     38\n15    38\n20    38\n13    34\n1     34\n9     33\n12    33\n14    33\n16    33\n10    32\n2     32\n4     32\n3     32\n17    31\n6     30\n8     30\n19    30\nName: team, dtype: int64"
      ]
     },
     "execution_count": 8,
     "metadata": {},
     "output_type": "execute_result"
    }
   ],
   "source": [
    "players_raw_2016[\"team\"].value_counts()\n",
    "\n"
   ]
  },
  {
   "cell_type": "code",
   "execution_count": 9,
   "id": "optimum-jacob",
   "metadata": {
    "autoscroll": false,
    "collapsed": false,
    "ein.hycell": false,
    "ein.tags": "worksheet-0",
    "slideshow": {
     "slide_type": "-"
    }
   },
   "outputs": [
    {
     "data": {
      "text/plain": [
       "3    292\n2    214\n4    104\n1     73\nName: element_type, dtype: int64"
      ]
     },
     "execution_count": 9,
     "metadata": {},
     "output_type": "execute_result"
    }
   ],
   "source": [
    "# This is the position of the player  GKP, DEF, MID, FWD\n",
    "players_raw_2016[\"element_type\"].value_counts()\n"
   ]
  },
  {
   "cell_type": "code",
   "execution_count": 10,
   "id": "southwest-ministry",
   "metadata": {
    "autoscroll": false,
    "collapsed": false,
    "ein.hycell": false,
    "ein.tags": "worksheet-0",
    "slideshow": {
     "slide_type": "-"
    }
   },
   "outputs": [
    {
     "data": {
      "image/png": "[encoded data removed]",
      "text/plain": [
       "<Figure size 432x288 with 1 Axes>"
      ]
     },
     "metadata": {},
     "output_type": "display_data"
    }
   ],
   "source": [
    "players_raw_2016.plot(kind=\"scatter\", x='element_type', y='total_points')\n",
    "plt.show()\n"
   ]
  },
  {
   "cell_type": "code",
   "execution_count": 11,
   "id": "corrected-jackson",
   "metadata": {
    "autoscroll": false,
    "collapsed": false,
    "ein.hycell": false,
    "ein.tags": "worksheet-0",
    "slideshow": {
     "slide_type": "-"
    }
   },
   "outputs": [
    {
     "data": {
      "image/png": "[encoded data removed]",
      "text/plain": [
       "<Figure size 432x288 with 1 Axes>"
      ]
     },
     "metadata": {},
     "output_type": "display_data"
    }
   ],
   "source": [
    "players_raw_2016.plot(kind=\"scatter\", x='team', y='total_points')\n",
    "plt.show()\n"
   ]
  },
  {
   "cell_type": "code",
   "execution_count": 12,
   "id": "global-bishop",
   "metadata": {
    "autoscroll": false,
    "collapsed": false,
    "ein.hycell": false,
    "ein.tags": "worksheet-0",
    "slideshow": {
     "slide_type": "-"
    }
   },
   "outputs": [
    {
     "name": "stdout",
     "output_type": "stream",
     "text": [
      "<class 'pandas.core.frame.DataFrame'>\n",
      "Int64Index: 520 entries, 0 to 679\n",
      "Data columns (total 57 columns):\n",
      " #   Column                        Non-Null Count  Dtype  \n",
      "---  ------                        --------------  -----  \n",
      " 0   assists                       520 non-null    int64  \n",
      " 1   bonus                         520 non-null    int64  \n",
      " 2   bps                           520 non-null    int64  \n",
      " 3   chance_of_playing_next_round  520 non-null    object \n",
      " 4   chance_of_playing_this_round  520 non-null    object \n",
      " 5   clean_sheets                  520 non-null    int64  \n",
      " 6   code                          520 non-null    int64  \n",
      " 7   cost_change_event             520 non-null    int64  \n",
      " 8   cost_change_event_fall        520 non-null    int64  \n",
      " 9   cost_change_start             520 non-null    int64  \n",
      " 10  cost_change_start_fall        520 non-null    int64  \n",
      " 11  creativity                    520 non-null    float64\n",
      " 12  dreamteam_count               520 non-null    int64  \n",
      " 13  ea_index                      520 non-null    int64  \n",
      " 14  element_type                  520 non-null    int64  \n",
      " 15  ep_next                       520 non-null    object \n",
      " 16  ep_this                       520 non-null    float64\n",
      " 17  event_points                  520 non-null    int64  \n",
      " 18  first_name                    520 non-null    object \n",
      " 19  form                          520 non-null    float64\n",
      " 20  goals_conceded                520 non-null    int64  \n",
      " 21  goals_scored                  520 non-null    int64  \n",
      " 22  ict_index                     520 non-null    float64\n",
      " 23  id                            520 non-null    int64  \n",
      " 24  in_dreamteam                  520 non-null    bool   \n",
      " 25  influence                     520 non-null    float64\n",
      " 26  loaned_in                     520 non-null    int64  \n",
      " 27  loaned_out                    520 non-null    int64  \n",
      " 28  loans_in                      520 non-null    int64  \n",
      " 29  loans_out                     520 non-null    int64  \n",
      " 30  minutes                       520 non-null    int64  \n",
      " 31  news                          101 non-null    object \n",
      " 32  now_cost                      520 non-null    int64  \n",
      " 33  own_goals                     520 non-null    int64  \n",
      " 34  penalties_missed              520 non-null    int64  \n",
      " 35  penalties_saved               520 non-null    int64  \n",
      " 36  photo                         520 non-null    object \n",
      " 37  points_per_game               520 non-null    float64\n",
      " 38  red_cards                     520 non-null    int64  \n",
      " 39  saves                         520 non-null    int64  \n",
      " 40  second_name                   520 non-null    object \n",
      " 41  selected_by_percent           520 non-null    float64\n",
      " 42  special                       520 non-null    bool   \n",
      " 43  squad_number                  520 non-null    object \n",
      " 44  status                        520 non-null    object \n",
      " 45  team                          520 non-null    int64  \n",
      " 46  team_code                     520 non-null    int64  \n",
      " 47  threat                        520 non-null    float64\n",
      " 48  total_points                  520 non-null    int64  \n",
      " 49  transfers_in                  520 non-null    int64  \n",
      " 50  transfers_in_event            520 non-null    int64  \n",
      " 51  transfers_out                 520 non-null    int64  \n",
      " 52  transfers_out_event           520 non-null    int64  \n",
      " 53  value_form                    520 non-null    float64\n",
      " 54  value_season                  520 non-null    float64\n",
      " 55  web_name                      520 non-null    object \n",
      " 56  yellow_cards                  520 non-null    int64  \n",
      "dtypes: bool(2), float64(10), int64(35), object(10)\n",
      "memory usage: 228.5+ KB\n"
     ]
    }
   ],
   "source": [
    "players_clean=players_raw_2016[players_raw_2016['total_points'] != 0]\n",
    "players_clean.info()\n"
   ]
  },
  {
   "cell_type": "code",
   "execution_count": 41,
   "id": "combined-exclusive",
   "metadata": {
    "autoscroll": false,
    "collapsed": false,
    "ein.hycell": false,
    "ein.tags": "worksheet-0",
    "slideshow": {
     "slide_type": "-"
    }
   },
   "outputs": [
    {
     "data": {
      "text/plain": [
       "count    520.000000\nmean      59.840385\nstd       48.761259\nmin        1.000000\n10%        4.000000\n30%       25.000000\n50%       52.000000\n80%      102.000000\n90%      126.100000\nmax      264.000000\nName: total_points, dtype: float64"
      ]
     },
     "execution_count": 41,
     "metadata": {},
     "output_type": "execute_result"
    }
   ],
   "source": [
    "points = players_clean['total_points'] \n",
    "points.describe(percentiles=[.10, .30, .50, .80, .90])\n"
   ]
  },
  {
   "cell_type": "code",
   "execution_count": 14,
   "id": "increasing-garlic",
   "metadata": {
    "autoscroll": false,
    "collapsed": false,
    "ein.hycell": false,
    "ein.tags": "worksheet-0",
    "slideshow": {
     "slide_type": "-"
    }
   },
   "outputs": [
    {
     "data": {
      "text/html": [
       "<div>\n<style scoped>\n    .dataframe tbody tr th:only-of-type {\n        vertical-align: middle;\n    }\n\n    .dataframe tbody tr th {\n        vertical-align: top;\n    }\n\n    .dataframe thead th {\n        text-align: right;\n    }\n</style>\n<table border=\"1\" class=\"dataframe\">\n  <thead>\n    <tr style=\"text-align: right;\">\n      <th></th>\n      <th>assists</th>\n      <th>bonus</th>\n      <th>bps</th>\n      <th>clean_sheets</th>\n      <th>code</th>\n      <th>cost_change_event</th>\n      <th>cost_change_event_fall</th>\n      <th>cost_change_start</th>\n      <th>cost_change_start_fall</th>\n      <th>creativity</th>\n      <th>...</th>\n      <th>team_code</th>\n      <th>threat</th>\n      <th>total_points</th>\n      <th>transfers_in</th>\n      <th>transfers_in_event</th>\n      <th>transfers_out</th>\n      <th>transfers_out_event</th>\n      <th>value_form</th>\n      <th>value_season</th>\n      <th>yellow_cards</th>\n    </tr>\n  </thead>\n  <tbody>\n    <tr>\n      <th>count</th>\n      <td>52.000000</td>\n      <td>52.000000</td>\n      <td>52.000000</td>\n      <td>52.000000</td>\n      <td>52.000000</td>\n      <td>52.0</td>\n      <td>52.0</td>\n      <td>52.000000</td>\n      <td>52.000000</td>\n      <td>52.000000</td>\n      <td>...</td>\n      <td>52.000000</td>\n      <td>52.000000</td>\n      <td>52.000000</td>\n      <td>5.200000e+01</td>\n      <td>52.0</td>\n      <td>5.200000e+01</td>\n      <td>52.0</td>\n      <td>52.0</td>\n      <td>52.000000</td>\n      <td>52.000000</td>\n    </tr>\n    <tr>\n      <th>mean</th>\n      <td>6.230769</td>\n      <td>17.192308</td>\n      <td>630.923077</td>\n      <td>11.038462</td>\n      <td>51454.134615</td>\n      <td>0.0</td>\n      <td>0.0</td>\n      <td>1.307692</td>\n      <td>-1.307692</td>\n      <td>651.265385</td>\n      <td>...</td>\n      <td>24.153846</td>\n      <td>816.461538</td>\n      <td>159.615385</td>\n      <td>1.372917e+06</td>\n      <td>0.0</td>\n      <td>1.211628e+06</td>\n      <td>0.0</td>\n      <td>0.0</td>\n      <td>22.334615</td>\n      <td>3.942308</td>\n    </tr>\n    <tr>\n      <th>std</th>\n      <td>4.841064</td>\n      <td>8.201001</td>\n      <td>124.724142</td>\n      <td>3.486453</td>\n      <td>28561.117394</td>\n      <td>0.0</td>\n      <td>0.0</td>\n      <td>4.487623</td>\n      <td>4.487623</td>\n      <td>448.714158</td>\n      <td>...</td>\n      <td>25.264394</td>\n      <td>557.633848</td>\n      <td>32.068037</td>\n      <td>8.941170e+05</td>\n      <td>0.0</td>\n      <td>8.597003e+05</td>\n      <td>0.0</td>\n      <td>0.0</td>\n      <td>3.624258</td>\n      <td>2.546920</td>\n    </tr>\n    <tr>\n      <th>min</th>\n      <td>0.000000</td>\n      <td>0.000000</td>\n      <td>382.000000</td>\n      <td>3.000000</td>\n      <td>7958.000000</td>\n      <td>0.0</td>\n      <td>0.0</td>\n      <td>-7.000000</td>\n      <td>-11.000000</td>\n      <td>0.000000</td>\n      <td>...</td>\n      <td>1.000000</td>\n      <td>0.000000</td>\n      <td>127.000000</td>\n      <td>7.912700e+04</td>\n      <td>0.0</td>\n      <td>1.623940e+05</td>\n      <td>0.0</td>\n      <td>0.0</td>\n      <td>13.800000</td>\n      <td>0.000000</td>\n    </tr>\n    <tr>\n      <th>25%</th>\n      <td>3.000000</td>\n      <td>13.000000</td>\n      <td>542.250000</td>\n      <td>8.000000</td>\n      <td>33250.000000</td>\n      <td>0.0</td>\n      <td>0.0</td>\n      <td>-2.250000</td>\n      <td>-4.250000</td>\n      <td>422.200000</td>\n      <td>...</td>\n      <td>8.000000</td>\n      <td>300.750000</td>\n      <td>134.000000</td>\n      <td>7.193405e+05</td>\n      <td>0.0</td>\n      <td>5.848035e+05</td>\n      <td>0.0</td>\n      <td>0.0</td>\n      <td>19.850000</td>\n      <td>2.000000</td>\n    </tr>\n    <tr>\n      <th>50%</th>\n      <td>5.500000</td>\n      <td>16.000000</td>\n      <td>637.000000</td>\n      <td>11.000000</td>\n      <td>42839.000000</td>\n      <td>0.0</td>\n      <td>0.0</td>\n      <td>0.000000</td>\n      <td>0.000000</td>\n      <td>624.350000</td>\n      <td>...</td>\n      <td>14.000000</td>\n      <td>813.000000</td>\n      <td>149.000000</td>\n      <td>1.268391e+06</td>\n      <td>0.0</td>\n      <td>1.049336e+06</td>\n      <td>0.0</td>\n      <td>0.0</td>\n      <td>22.550000</td>\n      <td>4.000000</td>\n    </tr>\n    <tr>\n      <th>75%</th>\n      <td>9.000000</td>\n      <td>21.250000</td>\n      <td>686.000000</td>\n      <td>14.000000</td>\n      <td>78212.750000</td>\n      <td>0.0</td>\n      <td>0.0</td>\n      <td>4.250000</td>\n      <td>2.250000</td>\n      <td>799.850000</td>\n      <td>...</td>\n      <td>32.000000</td>\n      <td>1161.250000</td>\n      <td>175.500000</td>\n      <td>1.879952e+06</td>\n      <td>0.0</td>\n      <td>1.719322e+06</td>\n      <td>0.0</td>\n      <td>0.0</td>\n      <td>24.700000</td>\n      <td>5.250000</td>\n    </tr>\n    <tr>\n      <th>max</th>\n      <td>21.000000</td>\n      <td>33.000000</td>\n      <td>920.000000</td>\n      <td>17.000000</td>\n      <td>110979.000000</td>\n      <td>0.0</td>\n      <td>0.0</td>\n      <td>11.000000</td>\n      <td>7.000000</td>\n      <td>1702.000000</td>\n      <td>...</td>\n      <td>91.000000</td>\n      <td>1896.000000</td>\n      <td>264.000000</td>\n      <td>4.044050e+06</td>\n      <td>0.0</td>\n      <td>3.691225e+06</td>\n      <td>0.0</td>\n      <td>0.0</td>\n      <td>29.200000</td>\n      <td>10.000000</td>\n    </tr>\n  </tbody>\n</table>\n<p>8 rows × 45 columns</p>\n</div>"
      ],
      "text/plain": [
       "         assists      bonus         bps  clean_sheets           code  \\\ncount  52.000000  52.000000   52.000000     52.000000      52.000000   \nmean    6.230769  17.192308  630.923077     11.038462   51454.134615   \nstd     4.841064   8.201001  124.724142      3.486453   28561.117394   \nmin     0.000000   0.000000  382.000000      3.000000    7958.000000   \n25%     3.000000  13.000000  542.250000      8.000000   33250.000000   \n50%     5.500000  16.000000  637.000000     11.000000   42839.000000   \n75%     9.000000  21.250000  686.000000     14.000000   78212.750000   \nmax    21.000000  33.000000  920.000000     17.000000  110979.000000   \n\n       cost_change_event  cost_change_event_fall  cost_change_start  \\\ncount               52.0                    52.0          52.000000   \nmean                 0.0                     0.0           1.307692   \nstd                  0.0                     0.0           4.487623   \nmin                  0.0                     0.0          -7.000000   \n25%                  0.0                     0.0          -2.250000   \n50%                  0.0                     0.0           0.000000   \n75%                  0.0                     0.0           4.250000   \nmax                  0.0                     0.0          11.000000   \n\n       cost_change_start_fall   creativity  ...  team_code       threat  \\\ncount               52.000000    52.000000  ...  52.000000    52.000000   \nmean                -1.307692   651.265385  ...  24.153846   816.461538   \nstd                  4.487623   448.714158  ...  25.264394   557.633848   \nmin                -11.000000     0.000000  ...   1.000000     0.000000   \n25%                 -4.250000   422.200000  ...   8.000000   300.750000   \n50%                  0.000000   624.350000  ...  14.000000   813.000000   \n75%                  2.250000   799.850000  ...  32.000000  1161.250000   \nmax                  7.000000  1702.000000  ...  91.000000  1896.000000   \n\n       total_points  transfers_in  transfers_in_event  transfers_out  \\\ncount     52.000000  5.200000e+01                52.0   5.200000e+01   \nmean     159.615385  1.372917e+06                 0.0   1.211628e+06   \nstd       32.068037  8.941170e+05                 0.0   8.597003e+05   \nmin      127.000000  7.912700e+04                 0.0   1.623940e+05   \n25%      134.000000  7.193405e+05                 0.0   5.848035e+05   \n50%      149.000000  1.268391e+06                 0.0   1.049336e+06   \n75%      175.500000  1.879952e+06                 0.0   1.719322e+06   \nmax      264.000000  4.044050e+06                 0.0   3.691225e+06   \n\n       transfers_out_event  value_form  value_season  yellow_cards  \ncount                 52.0        52.0     52.000000     52.000000  \nmean                   0.0         0.0     22.334615      3.942308  \nstd                    0.0         0.0      3.624258      2.546920  \nmin                    0.0         0.0     13.800000      0.000000  \n25%                    0.0         0.0     19.850000      2.000000  \n50%                    0.0         0.0     22.550000      4.000000  \n75%                    0.0         0.0     24.700000      5.250000  \nmax                    0.0         0.0     29.200000     10.000000  \n\n[8 rows x 45 columns]"
      ]
     },
     "execution_count": 14,
     "metadata": {},
     "output_type": "execute_result"
    }
   ],
   "source": [
    "# Let's try and learn about the top 10% players_2016\n",
    "top_points = players_clean[players_clean['total_points'] > 126]\n",
    "top_points.describe()\n",
    "\n"
   ]
  },
  {
   "cell_type": "code",
   "execution_count": 15,
   "id": "accepted-target",
   "metadata": {
    "autoscroll": false,
    "collapsed": false,
    "ein.hycell": false,
    "ein.tags": "worksheet-0",
    "slideshow": {
     "slide_type": "-"
    }
   },
   "outputs": [
    {
     "data": {
      "image/png": "[encoded data removed]",
      "text/plain": [
       "<Figure size 432x288 with 1 Axes>"
      ]
     },
     "metadata": {},
     "output_type": "display_data"
    }
   ],
   "source": [
    "top_points.plot(kind=\"scatter\", x='element_type', y='total_points')\n",
    "plt.show()\n"
   ]
  },
  {
   "cell_type": "code",
   "execution_count": 16,
   "id": "corresponding-mineral",
   "metadata": {
    "autoscroll": false,
    "collapsed": false,
    "ein.hycell": false,
    "ein.tags": "worksheet-0",
    "slideshow": {
     "slide_type": "-"
    }
   },
   "outputs": [
    {
     "data": {
      "image/png": "[encoded data removed]",
      "text/plain": [
       "<Figure size 432x288 with 1 Axes>"
      ]
     },
     "metadata": {},
     "output_type": "display_data"
    }
   ],
   "source": [
    "top_points.plot(kind=\"scatter\", x='team', y='total_points')\n",
    "plt.show()"
   ]
  },
  {
   "cell_type": "code",
   "execution_count": 17,
   "id": "electric-patch",
   "metadata": {
    "autoscroll": false,
    "collapsed": false,
    "ein.hycell": false,
    "ein.tags": "worksheet-0",
    "slideshow": {
     "slide_type": "-"
    }
   },
   "outputs": [
    {
     "data": {
      "image/png": "[encoded data removed]",
      "text/plain": [
       "<Figure size 432x288 with 1 Axes>"
      ]
     },
     "metadata": {},
     "output_type": "display_data"
    }
   ],
   "source": [
    "top_points.plot(kind=\"scatter\", x='now_cost', y='total_points')\n",
    "plt.show()"
   ]
  },
  {
   "cell_type": "code",
   "execution_count": 18,
   "id": "rolled-argument",
   "metadata": {
    "autoscroll": false,
    "collapsed": false,
    "ein.hycell": false,
    "ein.tags": "worksheet-0",
    "slideshow": {
     "slide_type": "-"
    }
   },
   "outputs": [
    {
     "data": {
      "image/png": "[encoded data removed]",
      "text/plain": [
       "<Figure size 432x288 with 1 Axes>"
      ]
     },
     "metadata": {},
     "output_type": "display_data"
    }
   ],
   "source": [
    "players_clean.plot(kind=\"scatter\", x='now_cost', y='total_points')\n",
    "plt.show()"
   ]
  },
  {
   "cell_type": "code",
   "execution_count": 19,
   "id": "massive-makeup",
   "metadata": {
    "autoscroll": false,
    "collapsed": false,
    "ein.hycell": false,
    "ein.tags": "worksheet-0",
    "slideshow": {
     "slide_type": "-"
    }
   },
   "outputs": [
    {
     "name": "stdout",
     "output_type": "stream",
     "text": [
      "[4, 21, 11, 10, 1, 12, 7, 20, 127, 36, 25, 26, 42, 6, 45, 43, 33, 41, 13, 29]\n"
     ]
    }
   ],
   "source": [
    "from urllib.request import urlopen as uReq\n",
    "from bs4 import BeautifulSoup as soup\n",
    "\n",
    "my_url=\"https://www.premierleague.com/history/season-reviews/54\"\n",
    "uClient = uReq(my_url)\n",
    "page_html = uClient.read()\n",
    "\n",
    "uClient.close()\n",
    "\n",
    "page_soup = soup(page_html, \"html.parser\")\n",
    "\n",
    "teamList = []\n",
    "divTeams = page_soup.find(\"div\", {\"class\":\"table tableSmall homeStandings js-standings-entry-container\"})\n",
    "teams = divTeams.findAll(\"tr\")\n",
    "for t in teams:\n",
    "    try:\n",
    "        teamList.append(int(t['data-filtered-table-row']))\n",
    "        # t['data-filtered-table-row-name'])\n",
    "    finally:\n",
    "        continue\n",
    "\n",
    "print(teamList)\n",
    "    "
   ]
  },
  {
   "cell_type": "code",
   "execution_count": 20,
   "id": "innocent-pottery",
   "metadata": {
    "autoscroll": false,
    "collapsed": false,
    "ein.hycell": false,
    "ein.tags": "worksheet-0",
    "slideshow": {
     "slide_type": "-"
    }
   },
   "outputs": [
    {
     "name": "stdout",
     "output_type": "stream",
     "text": [
      "    team  pos\n",
      "0      4    1\n",
      "1     21    2\n",
      "2     11    3\n",
      "3     10    4\n",
      "4      1    5\n",
      "5     12    6\n",
      "6      7    7\n",
      "7     20    8\n",
      "8    127    9\n",
      "9     36   10\n",
      "10    25   11\n",
      "11    26   12\n",
      "12    42   13\n",
      "13     6   14\n",
      "14    45   15\n",
      "15    43   16\n",
      "16    33   17\n",
      "17    41   18\n",
      "18    13   19\n",
      "19    29   20\n"
     ]
    }
   ],
   "source": [
    "# Now construct a DF \n",
    "posList = [x for x in range(1,21)]\n",
    "list_labels = ['team', 'pos']\n",
    "list_cols = [teamList, posList]\n",
    "zipped = list(zip(list_labels, list_cols))\n",
    "data = dict(zipped)\n",
    "\n",
    "teamDF = pd.DataFrame(data)\n",
    "print(teamDF)\n",
    "\n",
    "\n"
   ]
  },
  {
   "cell_type": "code",
   "execution_count": 21,
   "id": "differential-stockholm",
   "metadata": {
    "autoscroll": false,
    "collapsed": false,
    "ein.hycell": false,
    "ein.tags": "worksheet-0",
    "slideshow": {
     "slide_type": "-"
    }
   },
   "outputs": [
    {
     "name": "stdout",
     "output_type": "stream",
     "text": [
      "<class 'pandas.core.frame.DataFrame'>\n",
      "Int64Index: 683 entries, 1 to 683\n",
      "Data columns (total 58 columns):\n",
      " #   Column                        Non-Null Count  Dtype  \n",
      "---  ------                        --------------  -----  \n",
      " 0   assists                       683 non-null    int64  \n",
      " 1   bonus                         683 non-null    int64  \n",
      " 2   bps                           683 non-null    int64  \n",
      " 3   chance_of_playing_next_round  683 non-null    object \n",
      " 4   chance_of_playing_this_round  683 non-null    object \n",
      " 5   clean_sheets                  683 non-null    int64  \n",
      " 6   code                          683 non-null    int64  \n",
      " 7   cost_change_event             683 non-null    int64  \n",
      " 8   cost_change_event_fall        683 non-null    int64  \n",
      " 9   cost_change_start             683 non-null    int64  \n",
      " 10  cost_change_start_fall        683 non-null    int64  \n",
      " 11  creativity                    683 non-null    float64\n",
      " 12  dreamteam_count               683 non-null    int64  \n",
      " 13  ea_index                      683 non-null    int64  \n",
      " 14  element_type                  683 non-null    int64  \n",
      " 15  ep_next                       683 non-null    object \n",
      " 16  ep_this                       683 non-null    float64\n",
      " 17  event_points                  683 non-null    int64  \n",
      " 18  first_name                    683 non-null    object \n",
      " 19  form                          683 non-null    float64\n",
      " 20  goals_conceded                683 non-null    int64  \n",
      " 21  goals_scored                  683 non-null    int64  \n",
      " 22  ict_index                     683 non-null    float64\n",
      " 23  in_dreamteam                  683 non-null    bool   \n",
      " 24  influence                     683 non-null    float64\n",
      " 25  loaned_in                     683 non-null    int64  \n",
      " 26  loaned_out                    683 non-null    int64  \n",
      " 27  loans_in                      683 non-null    int64  \n",
      " 28  loans_out                     683 non-null    int64  \n",
      " 29  minutes                       683 non-null    int64  \n",
      " 30  news                          185 non-null    object \n",
      " 31  now_cost                      683 non-null    int64  \n",
      " 32  own_goals                     683 non-null    int64  \n",
      " 33  penalties_missed              683 non-null    int64  \n",
      " 34  penalties_saved               683 non-null    int64  \n",
      " 35  photo                         683 non-null    object \n",
      " 36  points_per_game               683 non-null    float64\n",
      " 37  red_cards                     683 non-null    int64  \n",
      " 38  saves                         683 non-null    int64  \n",
      " 39  second_name                   683 non-null    object \n",
      " 40  selected_by_percent           683 non-null    float64\n",
      " 41  special                       683 non-null    bool   \n",
      " 42  squad_number                  683 non-null    object \n",
      " 43  status                        683 non-null    object \n",
      " 44  team                          683 non-null    int64  \n",
      " 45  team_code                     683 non-null    int64  \n",
      " 46  threat                        683 non-null    float64\n",
      " 47  total_points                  683 non-null    int64  \n",
      " 48  transfers_in                  683 non-null    int64  \n",
      " 49  transfers_in_event            683 non-null    int64  \n",
      " 50  transfers_out                 683 non-null    int64  \n",
      " 51  transfers_out_event           683 non-null    int64  \n",
      " 52  value_form                    683 non-null    float64\n",
      " 53  value_season                  683 non-null    float64\n",
      " 54  web_name                      683 non-null    object \n",
      " 55  yellow_cards                  683 non-null    int64  \n",
      " 56  teamtl                        645 non-null    float64\n",
      " 57  pos                           645 non-null    float64\n",
      "dtypes: bool(2), float64(12), int64(34), object(10)\n",
      "memory usage: 305.5+ KB\n"
     ]
    },
    {
     "data": {
      "text/html": [
       "<div>\n<style scoped>\n    .dataframe tbody tr th:only-of-type {\n        vertical-align: middle;\n    }\n\n    .dataframe tbody tr th {\n        vertical-align: top;\n    }\n\n    .dataframe thead th {\n        text-align: right;\n    }\n</style>\n<table border=\"1\" class=\"dataframe\">\n  <thead>\n    <tr style=\"text-align: right;\">\n      <th></th>\n      <th>team_code</th>\n      <th>team</th>\n      <th>total_points</th>\n      <th>pos</th>\n    </tr>\n    <tr>\n      <th>id</th>\n      <th></th>\n      <th></th>\n      <th></th>\n      <th></th>\n    </tr>\n  </thead>\n  <tbody>\n    <tr>\n      <th>1</th>\n      <td>3</td>\n      <td>1</td>\n      <td>2</td>\n      <td>2.0</td>\n    </tr>\n    <tr>\n      <th>2</th>\n      <td>3</td>\n      <td>1</td>\n      <td>134</td>\n      <td>2.0</td>\n    </tr>\n    <tr>\n      <th>3</th>\n      <td>3</td>\n      <td>1</td>\n      <td>121</td>\n      <td>2.0</td>\n    </tr>\n    <tr>\n      <th>4</th>\n      <td>3</td>\n      <td>1</td>\n      <td>1</td>\n      <td>2.0</td>\n    </tr>\n    <tr>\n      <th>5</th>\n      <td>3</td>\n      <td>1</td>\n      <td>45</td>\n      <td>2.0</td>\n    </tr>\n    <tr>\n      <th>...</th>\n      <td>...</td>\n      <td>...</td>\n      <td>...</td>\n      <td>...</td>\n    </tr>\n    <tr>\n      <th>679</th>\n      <td>91</td>\n      <td>2</td>\n      <td>0</td>\n      <td>3.0</td>\n    </tr>\n    <tr>\n      <th>680</th>\n      <td>1</td>\n      <td>11</td>\n      <td>1</td>\n      <td>12.0</td>\n    </tr>\n    <tr>\n      <th>681</th>\n      <td>1</td>\n      <td>11</td>\n      <td>0</td>\n      <td>12.0</td>\n    </tr>\n    <tr>\n      <th>682</th>\n      <td>80</td>\n      <td>16</td>\n      <td>0</td>\n      <td>17.0</td>\n    </tr>\n    <tr>\n      <th>683</th>\n      <td>57</td>\n      <td>18</td>\n      <td>0</td>\n      <td>19.0</td>\n    </tr>\n  </tbody>\n</table>\n<p>683 rows × 4 columns</p>\n</div>"
      ],
      "text/plain": [
       "     team_code  team  total_points   pos\nid                                      \n1            3     1             2   2.0\n2            3     1           134   2.0\n3            3     1           121   2.0\n4            3     1             1   2.0\n5            3     1            45   2.0\n..         ...   ...           ...   ...\n679         91     2             0   3.0\n680          1    11             1  12.0\n681          1    11             0  12.0\n682         80    16             0  17.0\n683         57    18             0  19.0\n\n[683 rows x 4 columns]"
      ]
     },
     "execution_count": 21,
     "metadata": {},
     "output_type": "execute_result"
    }
   ],
   "source": [
    "# Now do a join between the position the team finished and the players\n",
    "\n",
    "praw = pd.read_csv('data/2016-17/players_raw.csv', index_col='id')\n",
    "\n",
    "pj = praw.join(teamDF, on='team', rsuffix='tl')\n",
    "pj.info()\n",
    "\n",
    "pj[[\"team_code\", \"team\", \"total_points\", \"pos\"]]\n",
    "\n"
   ]
  },
  {
   "cell_type": "code",
   "execution_count": 22,
   "id": "norwegian-posting",
   "metadata": {
    "autoscroll": false,
    "collapsed": false,
    "ein.hycell": false,
    "ein.tags": "worksheet-0",
    "slideshow": {
     "slide_type": "-"
    }
   },
   "outputs": [
    {
     "data": {
      "image/png": "[encoded data removed]",
      "text/plain": [
       "<Figure size 432x288 with 1 Axes>"
      ]
     },
     "metadata": {},
     "output_type": "display_data"
    }
   ],
   "source": [
    "top_points.plot(kind=\"scatter\", x='team_code', y='total_points')\n",
    "plt.show()\n"
   ]
  },
  {
   "cell_type": "code",
   "execution_count": null,
   "id": "hindu-currency",
   "metadata": {
    "autoscroll": false,
    "collapsed": false,
    "ein.hycell": false,
    "ein.tags": "worksheet-0",
    "slideshow": {
     "slide_type": "-"
    }
   },
   "outputs": [],
   "source": [
    "top_points.plot(kind=\"scatter\", x='team', y='total_points')\n",
    "plt.show()\n"
   ]
  },
  {
   "cell_type": "code",
   "execution_count": 23,
   "id": "solved-nation",
   "metadata": {
    "autoscroll": false,
    "collapsed": false,
    "ein.hycell": false,
    "ein.tags": "worksheet-0",
    "slideshow": {
     "slide_type": "-"
    }
   },
   "outputs": [],
   "source": [
    "import seaborn as sns\n",
    "\n",
    "\n",
    "\n"
   ]
  },
  {
   "cell_type": "code",
   "execution_count": 24,
   "id": "direct-joseph",
   "metadata": {
    "autoscroll": false,
    "collapsed": false,
    "ein.hycell": false,
    "ein.tags": "worksheet-0",
    "slideshow": {
     "slide_type": "-"
    }
   },
   "outputs": [
    {
     "name": "stderr",
     "output_type": "stream",
     "text": [
      "/Users/juan/venv-3.8.6/lib/python3.8/site-packages/seaborn/axisgrid.py:316: UserWarning: The `size` parameter has been renamed to `height`; please update your code.\n",
      "  warnings.warn(msg, UserWarning)\n"
     ]
    },
    {
     "data": {
      "text/plain": [
       "<seaborn.axisgrid.FacetGrid at 0x13a020c70>"
      ]
     },
     "execution_count": 24,
     "metadata": {},
     "output_type": "execute_result"
    },
    {
     "data": {
      "image/png": "[encoded data removed]",
      "text/plain": [
       "<Figure size 356.125x288 with 1 Axes>"
      ]
     },
     "metadata": {},
     "output_type": "display_data"
    }
   ],
   "source": [
    "\n",
    "sns.set_style(\"whitegrid\")\n",
    "sns.FacetGrid(praw, hue=\"element_type\", size=4).map(plt.scatter, \"team\", \"total_points\").add_legend()\n"
   ]
  },
  {
   "cell_type": "code",
   "execution_count": 25,
   "id": "pleased-decrease",
   "metadata": {
    "autoscroll": false,
    "collapsed": false,
    "ein.hycell": false,
    "ein.tags": "worksheet-0",
    "slideshow": {
     "slide_type": "-"
    }
   },
   "outputs": [
    {
     "name": "stderr",
     "output_type": "stream",
     "text": [
      "/Users/juan/venv-3.8.6/lib/python3.8/site-packages/seaborn/axisgrid.py:316: UserWarning: The `size` parameter has been renamed to `height`; please update your code.\n",
      "  warnings.warn(msg, UserWarning)\n"
     ]
    },
    {
     "data": {
      "text/plain": [
       "<seaborn.axisgrid.FacetGrid at 0x139686310>"
      ]
     },
     "execution_count": 25,
     "metadata": {},
     "output_type": "execute_result"
    },
    {
     "data": {
      "image/png": "[encoded data removed]",
      "text/plain": [
       "<Figure size 356.125x288 with 1 Axes>"
      ]
     },
     "metadata": {},
     "output_type": "display_data"
    }
   ],
   "source": [
    "sns.FacetGrid(top_points, hue=\"element_type\", size=4).map(plt.scatter, \"team\", \"total_points\").add_legend()\n"
   ]
  },
  {
   "cell_type": "code",
   "execution_count": 26,
   "id": "running-mother",
   "metadata": {
    "autoscroll": false,
    "collapsed": false,
    "ein.hycell": false,
    "ein.tags": "worksheet-0",
    "slideshow": {
     "slide_type": "-"
    }
   },
   "outputs": [
    {
     "name": "stderr",
     "output_type": "stream",
     "text": [
      "/Users/juan/venv-3.8.6/lib/python3.8/site-packages/seaborn/axisgrid.py:316: UserWarning: The `size` parameter has been renamed to `height`; please update your code.\n",
      "  warnings.warn(msg, UserWarning)\n"
     ]
    },
    {
     "data": {
      "text/plain": [
       "<seaborn.axisgrid.FacetGrid at 0x146a048e0>"
      ]
     },
     "execution_count": 26,
     "metadata": {},
     "output_type": "execute_result"
    },
    {
     "data": {
      "image/png": "[encoded data removed]",
      "text/plain": [
       "<Figure size 356.125x288 with 1 Axes>"
      ]
     },
     "metadata": {},
     "output_type": "display_data"
    }
   ],
   "source": [
    "sns.FacetGrid(top_points, hue=\"element_type\", size=4).map(plt.scatter, \"team\", \"bps\").add_legend()\n"
   ]
  },
  {
   "cell_type": "code",
   "execution_count": 74,
   "id": "british-nigeria",
   "metadata": {
    "autoscroll": false,
    "collapsed": false,
    "ein.hycell": false,
    "ein.tags": "worksheet-0",
    "slideshow": {
     "slide_type": "-"
    }
   },
   "outputs": [
    {
     "data": {
      "text/plain": [
       "count    683.0\nmean       0.0\nstd        0.0\nmin        0.0\n25%        0.0\n50%        0.0\n75%        0.0\nmax        0.0\nName: value_form, dtype: float64"
      ]
     },
     "execution_count": 74,
     "metadata": {},
     "output_type": "execute_result"
    }
   ],
   "source": [
    "# Analysis of column usefulness\n",
    "\n",
    "useful_columns = ['assists',\n",
    "                  'bonus',\n",
    "                  'bps',\n",
    "#                  'chance_of_playing_next_round',\n",
    "#                  'chance_of_playing_this_round',\n",
    "                  'clean_sheets',\n",
    "                  'code',\n",
    "                  'cost_change_event',\n",
    "                  'cost_change_event_fall',\n",
    "                  'cost_change_start',\n",
    "                  'cost_change_start_fall',\n",
    "                  'creativity',\n",
    "                  'dreamteam_count',\n",
    "                  'ea_index',\n",
    "                  'element_type',\n",
    "                  'ep_next',\n",
    "                  'ep_this',\n",
    "                  'event_points',\n",
    "                  'form',\n",
    "                  'goals_conceded',\n",
    "                  'goals_scored',\n",
    "                  'ict_index',\n",
    "#                  'id',\n",
    "                  'in_dreamteam',\n",
    "                  'influence',\n",
    "                  'minutes',\n",
    "                  'now_cost',\n",
    "                  'own_goals',\n",
    "                  'penalties_missed',\n",
    "                  'penalties_saved',\n",
    "                  'points_per_game',\n",
    "                  'red_cards',\n",
    "                  'saves',\n",
    "                  'selected_by_percent',\n",
    "                  'special',\n",
    "                  'squad_number',\n",
    "                  'status',\n",
    "                  'team',\n",
    "                  'team_code',\n",
    "                  'threat',\n",
    "                  'total_points',\n",
    "                  'transfers_in',\n",
    "                  'transfers_in_event',\n",
    "                  'transfers_out',\n",
    "                  'transfers_out_event',\n",
    "                  'value_form',\n",
    "                  'value_season',\n",
    "                  'yellow_cards']\n",
    "\n",
    "# players_raw_2016.info()\n",
    "# players_raw_2016['bps'].describe()\n",
    "import time\n",
    "\n",
    "c = {}\n",
    "for i in useful_columns:\n",
    "    c[i] = players_raw_2016[i]\n",
    "\n",
    "for i in useful_columns:    \n",
    "    c[i].describe()\n",
    "    time.sleep(2)\n",
    "\n",
    "c['value_form'].describe()\n",
    "    "
   ]
  }
 ],
 "metadata": {
  "kernelspec": {
   "argv": [
    "/Users/juan/venv-3.8.6/bin/python",
    "-m",
    "ipykernel_launcher",
    "-f",
    "{connection_file}"
   ],
   "display_name": "venv-3.8.6",
   "env": null,
   "interrupt_mode": "signal",
   "language": "python",
   "metadata": null,
   "name": "venv-3.8.6"
  },
  "name": "fpl-initial-data-analysis.ipynb"
 },
 "nbformat": 4,
 "nbformat_minor": 5
}
