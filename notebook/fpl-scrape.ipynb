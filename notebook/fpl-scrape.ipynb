{
 "cells": [
  {
   "cell_type": "markdown",
   "id": "crazy-transportation",
   "metadata": {
    "ein.tags": "worksheet-0",
    "slideshow": {
     "slide_type": "-"
    }
   },
   "source": [
    "_fpl web scraping_\n",
    "\n",
    "This notebook has an example of web scraping.\n",
    "I'm using it to learn how to work with notebook\n",
    "\n"
   ]
  },
  {
   "cell_type": "code",
   "execution_count": 3,
   "id": "educated-parker",
   "metadata": {
    "autoscroll": false,
    "collapsed": false,
    "ein.hycell": false,
    "ein.tags": "worksheet-0",
    "slideshow": {
     "slide_type": "-"
    }
   },
   "outputs": [
    {
     "name": "stdout",
     "output_type": "stream",
     "text": [
      "MCI 21 14 5 2\n",
      "MUN 22 13 5 4\n",
      "LEI 22 13 3 6\n",
      "LIV 22 11 7 4\n",
      "WHU 22 11 5 6\n",
      "CHE 22 10 6 6\n",
      "EVE 20 11 3 6\n",
      "TOT 21 9 6 6\n",
      "AVL 20 10 2 8\n",
      "ARS 22 9 4 9\n",
      "LEE 21 9 2 10\n",
      "SOU 21 8 5 8\n",
      "CRY 22 8 5 9\n",
      "WOL 22 7 5 10\n",
      "BHA 22 5 9 8\n",
      "NEW 22 6 4 12\n",
      "BUR 21 6 4 11\n",
      "FUL 21 2 8 11\n",
      "WBA 22 2 6 14\n",
      "SHU 22 3 2 17\n"
     ]
    }
   ],
   "source": [
    "from urllib.request import urlopen as uReq\n",
    "from bs4 import BeautifulSoup as soup\n",
    "\n",
    "my_url=\"https://www.premierleague.com/tables\"\n",
    "uClient = uReq(my_url)\n",
    "page_html = uClient.read()\n",
    "\n",
    "uClient.close()\n",
    "\n",
    "page_soup = soup(page_html, \"html.parser\")\n",
    "\n",
    "\n",
    "# tableBodyContainer isPL\n",
    "\n",
    "teams = page_soup.findAll(\"tr\", {\"data-filtered-entry-size\":\"20\"})\n",
    "for t in teams:\n",
    "    short = t.find(\"span\", {\"class\":\"short\"})\n",
    "    cols = t.findAll(\"td\")\n",
    "    print(short.text, cols[3].text, cols[4].text, cols[5].text, cols[6].text)\n"
   ]
  },
  {
   "cell_type": "markdown",
   "id": "continued-spelling",
   "metadata": {
    "ein.tags": "worksheet-0",
    "slideshow": {
     "slide_type": "-"
    }
   },
   "source": [
    "## Additional URLs to scrape for data\n",
    "\n",
    "- 2019-20 Season Final Results:\n",
    "https://www.premierleague.com/history/season-reviews/274\n",
    "- 2018-19 Season Final Results:\n",
    "https://www.premierleague.com/history/season-reviews/210\n",
    "- 2017-18 Season final Results:\n",
    "https://www.premierleague.com/history/season-reviews/79\n",
    "- 2016-17 Season final Results:\n",
    "https://www.premierleague.com/history/season-reviews/54\n"
   ]
  },
  {
   "cell_type": "code",
   "execution_count": 12,
   "id": "jewish-trader",
   "metadata": {
    "autoscroll": false,
    "collapsed": false,
    "ein.hycell": false,
    "ein.tags": "worksheet-0",
    "slideshow": {
     "slide_type": "-"
    }
   },
   "outputs": [],
   "source": [
    "\n",
    "my_url=\"https://www.premierleague.com/history/season-reviews/274\"\n",
    "uClient = uReq(my_url)\n",
    "page_html = uClient.read()\n",
    "\n",
    "uClient.close()\n",
    "\n",
    "page_soup = soup(page_html, \"html.parser\")\n",
    "\n",
    "\n",
    "\n",
    "\n",
    " \n"
   ]
  },
  {
   "cell_type": "code",
   "execution_count": 15,
   "id": "basic-fault",
   "metadata": {
    "autoscroll": false,
    "collapsed": false,
    "ein.hycell": false,
    "ein.tags": "worksheet-0",
    "slideshow": {
     "slide_type": "-"
    }
   },
   "outputs": [
    {
     "name": "stdout",
     "output_type": "stream",
     "text": [
      "10 Liverpool\n",
      "11 Manchester City\n",
      "12 Manchester United\n",
      "4 Chelsea\n",
      "26 Leicester City\n",
      "21 Tottenham Hotspur\n",
      "38 Wolverhampton Wanderers\n",
      "1 Arsenal\n",
      "18 Sheffield United\n",
      "43 Burnley\n",
      "20 Southampton\n",
      "7 Everton\n",
      "23 Newcastle United\n",
      "6 Crystal Palace\n",
      "131 Brighton and Hove Albion\n",
      "25 West Ham United\n",
      "2 Aston Villa\n",
      "127 AFC Bournemouth\n",
      "33 Watford\n",
      "14 Norwich City\n"
     ]
    }
   ],
   "source": [
    "# tableBodyContainer isPL\n",
    "# <tr class=\"\" data-filtered-table-row=\"127\" data-filtered-table-row-name=\"AFC Bournemouth\" data-position=\"9\" data-filtered-table-row-abbr=\"127\"\n",
    "\n",
    "\n",
    "teamList = []\n",
    "divTeams = page_soup.find(\"div\", {\"class\":\"table tableSmall homeStandings js-standings-entry-container\"})\n",
    "teams = divTeams.findAll(\"tr\")\n",
    "for t in teams:\n",
    "    try:\n",
    "        teamList.append(t['data-filtered-table-row'])\n",
    "        # t['data-filtered-table-row-name'])\n",
    "    finally:\n",
    "        continue\n"
   ]
  },
  {
   "cell_type": "code",
   "execution_count": 3,
   "id": "competitive-price",
   "metadata": {
    "autoscroll": false,
    "collapsed": false,
    "ein.hycell": false,
    "ein.tags": "worksheet-0",
    "slideshow": {
     "slide_type": "-"
    }
   },
   "outputs": [
    {
     "name": "stdout",
     "output_type": "stream",
     "text": [
      "[4, 21, 11, 10, 1, 12, 7, 20, 127, 36, 25, 26, 42, 6, 45, 43, 33, 41, 13, 29]\n"
     ]
    },
    {
     "name": "stdout",
     "output_type": "stream",
     "text": [
      "[4, 21, 11, 10, 1, 12, 7, 20, 127, 36, 25, 26, 42, 6, 45, 43, 33, 41, 13, 29]\n"
     ]
    }
   ],
   "source": [
    "# Here is a different view of the same data from historical records\n",
    "from urllib.request import urlopen as uReq\n",
    "from bs4 import BeautifulSoup as soup\n",
    "\n",
    "\n",
    "my_url=\"https://www.premierleague.com/history/season-reviews/54\"\n",
    "uClient = uReq(my_url)\n",
    "page_html = uClient.read()\n",
    "\n",
    "uClient.close()\n",
    "\n",
    "page_soup = soup(page_html, \"html.parser\")\n",
    "\n",
    "teamList = []\n",
    "divTeams = page_soup.find(\"div\", {\"class\":\"table tableSmall homeStandings js-standings-entry-container\"})\n",
    "teams = divTeams.findAll(\"tr\")\n",
    "for t in teams:\n",
    "    try:\n",
    "        teamList.append(int(t['data-filtered-table-row']))\n",
    "        # t['data-filtered-table-row-name'])\n",
    "    finally:\n",
    "        continue\n",
    "\n",
    "print(teamList)\n"
   ]
  }
 ],
 "metadata": {
  "kernelspec": {
   "argv": [
    "/Users/juan/venv-3.8.6/bin/python",
    "-m",
    "ipykernel_launcher",
    "-f",
    "{connection_file}"
   ],
   "display_name": "venv-3.8.6",
   "env": null,
   "interrupt_mode": "signal",
   "language": "python",
   "metadata": null,
   "name": "venv-3.8.6"
  },
  "name": "fpl-scrape.ipynb"
 },
 "nbformat": 4,
 "nbformat_minor": 5
}
